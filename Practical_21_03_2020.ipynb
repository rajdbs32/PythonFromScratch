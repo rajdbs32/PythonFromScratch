{
  "cells": [
    {
      "cell_type": "markdown",
      "metadata": {
        "id": "view-in-github",
        "colab_type": "text"
      },
      "source": [
        "<a href=\"https://colab.research.google.com/github/rajdbs32/PythonFromScratch/blob/master/Practical_21_03_2020.ipynb\" target=\"_parent\"><img src=\"https://colab.research.google.com/assets/colab-badge.svg\" alt=\"Open In Colab\"/></a>"
      ]
    },
    {
      "cell_type": "code",
      "execution_count": null,
      "metadata": {
        "id": "zgnmpHM182Uy",
        "outputId": "48eec2e1-8e14-44b4-e8d4-ffd712734d3c"
      },
      "outputs": [
        {
          "data": {
            "text/plain": [
              "10"
            ]
          },
          "execution_count": 1,
          "metadata": {},
          "output_type": "execute_result"
        }
      ],
      "source": [
        "10"
      ]
    },
    {
      "cell_type": "code",
      "execution_count": null,
      "metadata": {
        "id": "tAlxRnHO82U1",
        "outputId": "c5c9cb03-63b8-4c89-9335-17ea6e23b926"
      },
      "outputs": [
        {
          "data": {
            "text/plain": [
              "4.2"
            ]
          },
          "execution_count": 2,
          "metadata": {},
          "output_type": "execute_result"
        }
      ],
      "source": [
        "4.2"
      ]
    },
    {
      "cell_type": "code",
      "execution_count": null,
      "metadata": {
        "id": "TebKwRDh82U2",
        "outputId": "462c2229-0ae6-46c6-8be6-62a2d9f03bf9"
      },
      "outputs": [
        {
          "data": {
            "text/plain": [
              "4000000.0"
            ]
          },
          "execution_count": 3,
          "metadata": {},
          "output_type": "execute_result"
        }
      ],
      "source": [
        ".4e7"
      ]
    },
    {
      "cell_type": "code",
      "execution_count": null,
      "metadata": {
        "id": "edIsx42B82U3",
        "outputId": "a7684f26-9c9d-4d4b-b34f-f40a81cfab4a"
      },
      "outputs": [
        {
          "data": {
            "text/plain": [
              "int"
            ]
          },
          "execution_count": 4,
          "metadata": {},
          "output_type": "execute_result"
        }
      ],
      "source": [
        "type(10)"
      ]
    },
    {
      "cell_type": "code",
      "execution_count": null,
      "metadata": {
        "id": "J9skrK5u82U3",
        "outputId": "31718a00-3ef6-4128-ee8d-a494a55b6df9"
      },
      "outputs": [
        {
          "data": {
            "text/plain": [
              "float"
            ]
          },
          "execution_count": 5,
          "metadata": {},
          "output_type": "execute_result"
        }
      ],
      "source": [
        "type(4.2)"
      ]
    },
    {
      "cell_type": "code",
      "execution_count": null,
      "metadata": {
        "id": "10acoc7482U4",
        "outputId": "8431e558-dd7b-408d-a925-288a35b7e228"
      },
      "outputs": [
        {
          "data": {
            "text/plain": [
              "float"
            ]
          },
          "execution_count": 6,
          "metadata": {},
          "output_type": "execute_result"
        }
      ],
      "source": [
        "type(.4e7)"
      ]
    },
    {
      "cell_type": "code",
      "execution_count": null,
      "metadata": {
        "id": "TPHml_KE82U5",
        "outputId": "86ac95dc-9811-4f44-9614-c1dfcddcba7b"
      },
      "outputs": [
        {
          "data": {
            "text/plain": [
              "(2+3j)"
            ]
          },
          "execution_count": 7,
          "metadata": {},
          "output_type": "execute_result"
        }
      ],
      "source": [
        "2+3j"
      ]
    },
    {
      "cell_type": "code",
      "execution_count": null,
      "metadata": {
        "id": "CRBkuKSR82U6",
        "outputId": "c31b4c11-1217-4e3d-bb73-9fbd043410f0"
      },
      "outputs": [
        {
          "data": {
            "text/plain": [
              "complex"
            ]
          },
          "execution_count": 8,
          "metadata": {},
          "output_type": "execute_result"
        }
      ],
      "source": [
        "type(2+3j)"
      ]
    },
    {
      "cell_type": "code",
      "execution_count": null,
      "metadata": {
        "id": "7MNQsTuH82U6",
        "outputId": "c5fc9596-056b-465d-ab4d-98b140c84d5e"
      },
      "outputs": [
        {
          "name": "stdout",
          "output_type": "stream",
          "text": [
            "23\n",
            "17\n",
            "6.666666666666667\n",
            "60\n",
            "2\n",
            "6\n"
          ]
        }
      ],
      "source": [
        "a=20\n",
        "b=3\n",
        "print(a+b)\n",
        "print(a-b)\n",
        "print(a/b)\n",
        "print(a*b)\n",
        "print(a%b)\n",
        "print(a//b)"
      ]
    },
    {
      "cell_type": "code",
      "execution_count": null,
      "metadata": {
        "id": "nSMZVAI482U8",
        "outputId": "1cfa361b-6549-4941-df20-db0c3bd65f93"
      },
      "outputs": [
        {
          "name": "stdout",
          "output_type": "stream",
          "text": [
            "The real part of complex number is : 5.0\n",
            "The imaginary part of complex number is : 3.0\n"
          ]
        }
      ],
      "source": [
        "import cmath\n",
        "\n",
        "\n",
        "x = 5\n",
        "y = 3\n",
        "\n",
        "\n",
        "z = complex(x,y);\n",
        "\n",
        "\n",
        "print (\"The real part of complex number is : \",end=\"\")\n",
        "print (z.real)\n",
        "\n",
        "print (\"The imaginary part of complex number is : \",end=\"\")\n",
        "print (z.imag)\n"
      ]
    },
    {
      "cell_type": "code",
      "execution_count": null,
      "metadata": {
        "id": "nJ6e3ipV82U9",
        "outputId": "28a387c9-5006-4f95-cf16-f2cac6444ed6"
      },
      "outputs": [
        {
          "name": "stdout",
          "output_type": "stream",
          "text": [
            "I am a string.\n"
          ]
        }
      ],
      "source": [
        "print(\"I am a string.\")"
      ]
    },
    {
      "cell_type": "code",
      "execution_count": null,
      "metadata": {
        "id": "8WPQTfpO82U9",
        "outputId": "49bdcc8a-38b6-4f06-c8a8-bb7330eb2f65"
      },
      "outputs": [
        {
          "data": {
            "text/plain": [
              "str"
            ]
          },
          "execution_count": 11,
          "metadata": {},
          "output_type": "execute_result"
        }
      ],
      "source": [
        "type(\"I am a string.\")"
      ]
    },
    {
      "cell_type": "code",
      "execution_count": null,
      "metadata": {
        "id": "fgoke_vJ82U-",
        "outputId": "f4a8009b-c768-4026-889f-92a2370be77c"
      },
      "outputs": [
        {
          "name": "stdout",
          "output_type": "stream",
          "text": [
            "foo\n",
            "bar\n"
          ]
        }
      ],
      "source": [
        "print('foo\\nbar')"
      ]
    },
    {
      "cell_type": "code",
      "execution_count": null,
      "metadata": {
        "id": "zCAG0U-M82U-",
        "outputId": "584177bd-669e-4671-e87d-48f7161b2a58"
      },
      "outputs": [
        {
          "name": "stdout",
          "output_type": "stream",
          "text": [
            "foo\\nbar\n"
          ]
        }
      ],
      "source": [
        "print(r'foo\\nbar')"
      ]
    },
    {
      "cell_type": "code",
      "execution_count": null,
      "metadata": {
        "id": "vPS7qBK682U-",
        "outputId": "3d5bd4e5-8035-40fd-d505-27dff4a0bc2f"
      },
      "outputs": [
        {
          "name": "stdout",
          "output_type": "stream",
          "text": [
            "foo\\\\bar\n"
          ]
        }
      ],
      "source": [
        "print(R'foo\\\\bar')"
      ]
    },
    {
      "cell_type": "code",
      "execution_count": null,
      "metadata": {
        "id": "31i0ulFs82U_",
        "outputId": "f9c385de-4338-4653-afbd-a598124a03b2"
      },
      "outputs": [
        {
          "name": "stdout",
          "output_type": "stream",
          "text": [
            "This string has a single (') and a double (\") quote.\n"
          ]
        }
      ],
      "source": [
        "print('''This string has a single (') and a double (\") quote.''')"
      ]
    },
    {
      "cell_type": "code",
      "execution_count": null,
      "metadata": {
        "id": "-RMFW7WI82U_",
        "outputId": "5372702b-44e3-41f8-808b-372b74912ed4"
      },
      "outputs": [
        {
          "data": {
            "text/plain": [
              "bool"
            ]
          },
          "execution_count": 18,
          "metadata": {},
          "output_type": "execute_result"
        }
      ],
      "source": [
        "type(True)"
      ]
    },
    {
      "cell_type": "code",
      "execution_count": null,
      "metadata": {
        "id": "gt1jlE4M82U_",
        "outputId": "f9807ffb-8844-460b-d672-97c27bba1749"
      },
      "outputs": [
        {
          "data": {
            "text/plain": [
              "bool"
            ]
          },
          "execution_count": 19,
          "metadata": {},
          "output_type": "execute_result"
        }
      ],
      "source": [
        "type(False)"
      ]
    },
    {
      "cell_type": "code",
      "execution_count": null,
      "metadata": {
        "id": "v3qFyo5e82VA",
        "outputId": "75750ac9-cab6-4f44-a459-0cfda878efe6"
      },
      "outputs": [
        {
          "name": "stdout",
          "output_type": "stream",
          "text": [
            "Type of a:  <class 'int'>\n",
            "\n",
            "Type of b:  <class 'float'>\n",
            "\n",
            "Type of c:  <class 'complex'>\n"
          ]
        }
      ],
      "source": [
        "\n",
        "\n",
        "a = 5\n",
        "print(\"Type of a: \", type(a))\n",
        "\n",
        "b = 5.0\n",
        "print(\"\\nType of b: \", type(b))\n",
        "\n",
        "c = 2 + 4j\n",
        "print(\"\\nType of c: \", type(c))\n"
      ]
    },
    {
      "cell_type": "code",
      "execution_count": null,
      "metadata": {
        "id": "2pOzSJQh82VA",
        "outputId": "9a325c78-d477-4f55-823f-065e3bd54188"
      },
      "outputs": [
        {
          "name": "stdout",
          "output_type": "stream",
          "text": [
            "String with the use of Single Quotes: \n",
            "Welcome to the Geeks World\n",
            "\n",
            "String with the use of Double Quotes: \n",
            "I'm a Geek\n",
            "<class 'str'>\n",
            "\n",
            "String with the use of Triple Quotes: \n",
            "I'm a Geek and I live in a world of \"Geeks\"\n",
            "<class 'str'>\n",
            "\n",
            "Creating a multiline String: \n",
            "Geeks For\n",
            "             Life\n"
          ]
        }
      ],
      "source": [
        "\n",
        "String1 = 'Welcome to the Geeks World'\n",
        "print(\"String with the use of Single Quotes: \")\n",
        "print(String1)\n",
        "\n",
        "\n",
        "String1 = \"I'm a Geek\"\n",
        "print(\"\\nString with the use of Double Quotes: \")\n",
        "print(String1)\n",
        "print(type(String1))\n",
        "\n",
        "String1 = '''I'm a Geek and I live in a world of \"Geeks\"'''\n",
        "print(\"\\nString with the use of Triple Quotes: \")\n",
        "print(String1)\n",
        "print(type(String1))\n",
        "\n",
        "# Creating String with triple\n",
        "# Quotes allows multiple lines\n",
        "String1 = '''Geeks For\n",
        "             Life'''\n",
        "print(\"\\nCreating a multiline String: \")\n",
        "print(String1)\n"
      ]
    },
    {
      "cell_type": "code",
      "execution_count": null,
      "metadata": {
        "id": "METDC0_M82VB",
        "outputId": "18c1e17e-433f-4576-cd3d-1891990d0980"
      },
      "outputs": [
        {
          "name": "stdout",
          "output_type": "stream",
          "text": [
            "Initial String: \n",
            "Universitygrantcommission\n",
            "U\n",
            "n\n",
            "noiss\n",
            "noissimmoctnargytisrevinU\n"
          ]
        }
      ],
      "source": [
        "\n",
        "String1 = \"Universitygrantcommission\"\n",
        "print(\"Initial String: \")\n",
        "print(String1)\n",
        "\n",
        "\n",
        "\n",
        "print(String1[0])\n",
        "\n",
        "\n",
        "\n",
        "print(String1[-1])\n",
        "\n",
        "print(String1[-1:-6:-1])\n",
        "\n",
        "print(String1[-1::-1])\n",
        "\n",
        "\n"
      ]
    },
    {
      "cell_type": "code",
      "execution_count": null,
      "metadata": {
        "id": "Y1FHvlS-82VB",
        "outputId": "4b88fe57-fef9-416e-d250-aea02fb715e9"
      },
      "outputs": [
        {
          "name": "stdout",
          "output_type": "stream",
          "text": [
            "Initial String: \n",
            "Universitygrantcommission\n"
          ]
        },
        {
          "ename": "TypeError",
          "evalue": "'str' object does not support item assignment",
          "output_type": "error",
          "traceback": [
            "\u001b[1;31m---------------------------------------------------------------------------\u001b[0m",
            "\u001b[1;31mTypeError\u001b[0m                                 Traceback (most recent call last)",
            "\u001b[1;32m<ipython-input-94-25bc62f7e1fc>\u001b[0m in \u001b[0;36m<module>\u001b[1;34m\u001b[0m\n\u001b[0;32m      3\u001b[0m \u001b[0mprint\u001b[0m\u001b[1;33m(\u001b[0m\u001b[0mString1\u001b[0m\u001b[1;33m)\u001b[0m\u001b[1;33m\u001b[0m\u001b[1;33m\u001b[0m\u001b[0m\n\u001b[0;32m      4\u001b[0m \u001b[1;33m\u001b[0m\u001b[0m\n\u001b[1;32m----> 5\u001b[1;33m \u001b[0mString1\u001b[0m\u001b[1;33m[\u001b[0m\u001b[1;36m0\u001b[0m\u001b[1;33m]\u001b[0m\u001b[1;33m=\u001b[0m\u001b[1;34m'D'\u001b[0m\u001b[1;33m\u001b[0m\u001b[1;33m\u001b[0m\u001b[0m\n\u001b[0m",
            "\u001b[1;31mTypeError\u001b[0m: 'str' object does not support item assignment"
          ]
        }
      ],
      "source": [
        "String1 = \"Universitygrantcommission\"\n",
        "print(\"Initial String: \")\n",
        "print(String1)\n",
        "\n",
        "String1[0]='D'"
      ]
    },
    {
      "cell_type": "code",
      "execution_count": null,
      "metadata": {
        "id": "4G6VXzG882VB",
        "outputId": "3d0fb7af-dd9d-4a81-91ff-94e0db1ae8db"
      },
      "outputs": [
        {
          "name": "stdout",
          "output_type": "stream",
          "text": [
            "25\n"
          ]
        }
      ],
      "source": [
        "String1 = \"Universitygrantcommission\"\n",
        "\n",
        "print(len(String1))"
      ]
    },
    {
      "cell_type": "code",
      "execution_count": null,
      "metadata": {
        "id": "RSfc-Kmw82VB",
        "outputId": "8fceaef4-7c89-4bbf-fce5-8c07b26e4c26"
      },
      "outputs": [
        {
          "name": "stdout",
          "output_type": "stream",
          "text": [
            "3\n"
          ]
        }
      ],
      "source": [
        "String1 = \"Universitygrantcommission IISc PU SASTRA\"\n",
        "\n",
        "print(String1.count(\"s\"))"
      ]
    },
    {
      "cell_type": "code",
      "execution_count": null,
      "metadata": {
        "id": "Ta8geYI082VC",
        "outputId": "b25ddf6c-c8d3-4c5c-9755-7a6b6fedf76c"
      },
      "outputs": [
        {
          "name": "stdout",
          "output_type": "stream",
          "text": [
            "3\n"
          ]
        }
      ],
      "source": [
        "String1 = \"Universitygrantcommission IISc PU SASTRA\"\n",
        "\n",
        "print(String1.count(\" \"))"
      ]
    },
    {
      "cell_type": "code",
      "execution_count": null,
      "metadata": {
        "id": "3ky3EuuP82VC",
        "outputId": "115c3244-2c05-440c-815a-2e4cb245c718"
      },
      "outputs": [
        {
          "name": "stdout",
          "output_type": "stream",
          "text": [
            "U\n",
            "U\n",
            "Uni\n",
            "Uni\n",
            "TRA\n",
            "versitygrantcommission IISc PU SASTRA\n",
            "Universitygrantcommission IISc PU SAS\n"
          ]
        }
      ],
      "source": [
        "word = \"Universitygrantcommission IISc PU SASTRA\"\n",
        "\n",
        "print(word[0]) \n",
        "print(word[0:1]) \n",
        "print(word[0:3])\n",
        "print(word[:3]) \n",
        "print(word[-3:]) \n",
        "print(word[3:]) \n",
        "print(word[:-3]) "
      ]
    },
    {
      "cell_type": "code",
      "execution_count": null,
      "metadata": {
        "id": "PTPlh0EL82VC",
        "outputId": "ee92976c-01e9-491e-c54d-065dc3004d35"
      },
      "outputs": [
        {
          "data": {
            "text/plain": [
              "['Hello', 'World']"
            ]
          },
          "execution_count": 32,
          "metadata": {},
          "output_type": "execute_result"
        }
      ],
      "source": [
        "word = \"Hello World\"\n",
        "\n",
        "word.split(' ')\n"
      ]
    },
    {
      "cell_type": "code",
      "execution_count": null,
      "metadata": {
        "id": "ksqY1jgO82VC",
        "outputId": "9551762f-bf1c-4ebe-8b5c-99cd992016b3"
      },
      "outputs": [
        {
          "data": {
            "text/plain": [
              "['kk', 'gk', 'sk']"
            ]
          },
          "execution_count": 34,
          "metadata": {},
          "output_type": "execute_result"
        }
      ],
      "source": [
        "word = \"kk,gk,sk\"\n",
        "\n",
        "word.split(',')"
      ]
    },
    {
      "cell_type": "code",
      "execution_count": null,
      "metadata": {
        "id": "xK9AKSiN82VD",
        "outputId": "62228e31-c6e9-424f-ee91-ab2e2cb66f61"
      },
      "outputs": [
        {
          "data": {
            "text/plain": [
              "['kk,gk,sk', 'students']"
            ]
          },
          "execution_count": 35,
          "metadata": {},
          "output_type": "execute_result"
        }
      ],
      "source": [
        "word = \"kk,gk,sk:students\"\n",
        "\n",
        "word.split(':')"
      ]
    },
    {
      "cell_type": "code",
      "execution_count": null,
      "metadata": {
        "id": "S8uZWyIm82VD",
        "outputId": "7f0b529f-df40-42b4-c7ec-bdea494163f3"
      },
      "outputs": [
        {
          "data": {
            "text/plain": [
              "False"
            ]
          },
          "execution_count": 36,
          "metadata": {},
          "output_type": "execute_result"
        }
      ],
      "source": [
        "word = \"hello world\"\n",
        "\n",
        "word.startswith(\"H\")\n"
      ]
    },
    {
      "cell_type": "code",
      "execution_count": null,
      "metadata": {
        "id": "BI6MCdjw82VD",
        "outputId": "8aee62df-14e9-4f91-b0e7-4c7faf872e80"
      },
      "outputs": [
        {
          "data": {
            "text/plain": [
              "True"
            ]
          },
          "execution_count": 39,
          "metadata": {},
          "output_type": "execute_result"
        }
      ],
      "source": [
        "word.startswith(\"h\")"
      ]
    },
    {
      "cell_type": "code",
      "execution_count": null,
      "metadata": {
        "id": "z5BHdjCl82VD",
        "outputId": "6588f1c9-bb60-4734-92fe-51ead0dad4da"
      },
      "outputs": [
        {
          "data": {
            "text/plain": [
              "True"
            ]
          },
          "execution_count": 37,
          "metadata": {},
          "output_type": "execute_result"
        }
      ],
      "source": [
        "word.endswith(\"d\")"
      ]
    },
    {
      "cell_type": "code",
      "execution_count": null,
      "metadata": {
        "id": "gWZqAvwJ82VD",
        "outputId": "19f60e3d-c24b-45fa-eb74-de386c258968"
      },
      "outputs": [
        {
          "data": {
            "text/plain": [
              "False"
            ]
          },
          "execution_count": 38,
          "metadata": {},
          "output_type": "execute_result"
        }
      ],
      "source": [
        "word.endswith(\"w\")"
      ]
    },
    {
      "cell_type": "code",
      "execution_count": null,
      "metadata": {
        "id": "4xNgQ-1A82VE",
        "outputId": "02a5291e-595a-489e-c734-b8f69358c222"
      },
      "outputs": [
        {
          "name": "stdout",
          "output_type": "stream",
          "text": [
            "python python python python python python python python python python \n"
          ]
        }
      ],
      "source": [
        "print (\"python \"* 10)"
      ]
    },
    {
      "cell_type": "code",
      "execution_count": null,
      "metadata": {
        "id": "CGJiJQZe82VE",
        "outputId": "233da108-2db0-4e02-c256-672ee0f5ee7a"
      },
      "outputs": [
        {
          "data": {
            "text/plain": [
              "'Goodbye World'"
            ]
          },
          "execution_count": 42,
          "metadata": {},
          "output_type": "execute_result"
        }
      ],
      "source": [
        "word = \"Hello World\"\n",
        "\n",
        "word.replace(\"Hello\", \"Goodbye\")\n"
      ]
    },
    {
      "cell_type": "code",
      "execution_count": null,
      "metadata": {
        "id": "tnfsRgwe82VE",
        "outputId": "ad703ae3-8592-48ba-d793-8efd666ef5ba"
      },
      "outputs": [
        {
          "data": {
            "text/plain": [
              "['__add__',\n",
              " '__class__',\n",
              " '__contains__',\n",
              " '__delattr__',\n",
              " '__dir__',\n",
              " '__doc__',\n",
              " '__eq__',\n",
              " '__format__',\n",
              " '__ge__',\n",
              " '__getattribute__',\n",
              " '__getitem__',\n",
              " '__getnewargs__',\n",
              " '__gt__',\n",
              " '__hash__',\n",
              " '__init__',\n",
              " '__init_subclass__',\n",
              " '__iter__',\n",
              " '__le__',\n",
              " '__len__',\n",
              " '__lt__',\n",
              " '__mod__',\n",
              " '__mul__',\n",
              " '__ne__',\n",
              " '__new__',\n",
              " '__reduce__',\n",
              " '__reduce_ex__',\n",
              " '__repr__',\n",
              " '__rmod__',\n",
              " '__rmul__',\n",
              " '__setattr__',\n",
              " '__sizeof__',\n",
              " '__str__',\n",
              " '__subclasshook__',\n",
              " 'capitalize',\n",
              " 'casefold',\n",
              " 'center',\n",
              " 'count',\n",
              " 'encode',\n",
              " 'endswith',\n",
              " 'expandtabs',\n",
              " 'find',\n",
              " 'format',\n",
              " 'format_map',\n",
              " 'index',\n",
              " 'isalnum',\n",
              " 'isalpha',\n",
              " 'isascii',\n",
              " 'isdecimal',\n",
              " 'isdigit',\n",
              " 'isidentifier',\n",
              " 'islower',\n",
              " 'isnumeric',\n",
              " 'isprintable',\n",
              " 'isspace',\n",
              " 'istitle',\n",
              " 'isupper',\n",
              " 'join',\n",
              " 'ljust',\n",
              " 'lower',\n",
              " 'lstrip',\n",
              " 'maketrans',\n",
              " 'partition',\n",
              " 'replace',\n",
              " 'rfind',\n",
              " 'rindex',\n",
              " 'rjust',\n",
              " 'rpartition',\n",
              " 'rsplit',\n",
              " 'rstrip',\n",
              " 'split',\n",
              " 'splitlines',\n",
              " 'startswith',\n",
              " 'strip',\n",
              " 'swapcase',\n",
              " 'title',\n",
              " 'translate',\n",
              " 'upper',\n",
              " 'zfill']"
            ]
          },
          "execution_count": 43,
          "metadata": {},
          "output_type": "execute_result"
        }
      ],
      "source": [
        "dir(str)"
      ]
    },
    {
      "cell_type": "code",
      "execution_count": null,
      "metadata": {
        "id": "L2sWCixm82VE",
        "outputId": "6aaf1254-fbc7-4812-aabb-bf45d47b44ae"
      },
      "outputs": [
        {
          "name": "stdout",
          "output_type": "stream",
          "text": [
            "HELLO WORLD\n"
          ]
        }
      ],
      "source": [
        "string = \"Hello World\"\n",
        "\n",
        "print(string.upper())\n"
      ]
    },
    {
      "cell_type": "code",
      "execution_count": null,
      "metadata": {
        "id": "hQWS0wkE82VF",
        "outputId": "dba2bc01-a178-47d1-abe0-db8fa2235147"
      },
      "outputs": [
        {
          "name": "stdout",
          "output_type": "stream",
          "text": [
            "hello world\n"
          ]
        }
      ],
      "source": [
        "string = \"Hello World\"\n",
        "\n",
        "print(string.lower())"
      ]
    },
    {
      "cell_type": "code",
      "execution_count": null,
      "metadata": {
        "id": "EWZG8Kny82VF",
        "outputId": "a91a3190-72f9-4a3a-e2e7-ab71f273f5bc"
      },
      "outputs": [
        {
          "name": "stdout",
          "output_type": "stream",
          "text": [
            "False\n"
          ]
        }
      ],
      "source": [
        "string = \"Hello World\"\n",
        "\n",
        "print(string.isupper())"
      ]
    },
    {
      "cell_type": "code",
      "execution_count": null,
      "metadata": {
        "id": "Pvqhjb5I82VF",
        "outputId": "75ebef05-825d-40a5-cec8-f18ba4188e16"
      },
      "outputs": [
        {
          "name": "stdout",
          "output_type": "stream",
          "text": [
            "False\n"
          ]
        }
      ],
      "source": [
        "string = \"Hello World\"\n",
        "\n",
        "print(string.islower())"
      ]
    },
    {
      "cell_type": "code",
      "execution_count": null,
      "metadata": {
        "id": "qJMCbgJk82VF",
        "outputId": "78f5eb6a-535e-41e0-bd44-dc7484e90545"
      },
      "outputs": [
        {
          "name": "stdout",
          "output_type": "stream",
          "text": [
            "Krishna rama\n"
          ]
        }
      ],
      "source": [
        "string = \"krishna rama\"\n",
        "\n",
        "print (string.capitalize())"
      ]
    },
    {
      "cell_type": "code",
      "execution_count": null,
      "metadata": {
        "id": "IJhK7-yK82VF",
        "outputId": "4fc0be81-b24b-431e-847e-64782e7cd840"
      },
      "outputs": [
        {
          "name": "stdout",
          "output_type": "stream",
          "text": [
            "Krishna Rama\n"
          ]
        }
      ],
      "source": [
        "string = \"krishna rama\"\n",
        "\n",
        "print (string.title())"
      ]
    },
    {
      "cell_type": "code",
      "execution_count": null,
      "metadata": {
        "id": "UQcP8Iko82VG",
        "outputId": "e5c726fc-9181-4bb1-fc94-ba193a81b14f"
      },
      "outputs": [
        {
          "name": "stdout",
          "output_type": "stream",
          "text": [
            "kRISHNA rAMA\n"
          ]
        }
      ],
      "source": [
        "string = \"Krishna Rama\"\n",
        "print (string.swapcase())"
      ]
    },
    {
      "cell_type": "code",
      "execution_count": null,
      "metadata": {
        "id": "QjkpNESg82VG",
        "outputId": "dbd1a6a6-5c5d-4f96-d5d4-83a32f87efe3"
      },
      "outputs": [
        {
          "name": "stdout",
          "output_type": "stream",
          "text": [
            "dlroW olleH\n"
          ]
        }
      ],
      "source": [
        "string = \"Hello World\"\n",
        "print (''.join(reversed(string)))\n"
      ]
    },
    {
      "cell_type": "code",
      "execution_count": null,
      "metadata": {
        "id": "NpXNp6hm82VG",
        "outputId": "38d0663c-2eb7-4ad1-fc18-0d1b002a8b4d"
      },
      "outputs": [
        {
          "name": "stdout",
          "output_type": "stream",
          "text": [
            "d-l-r-o-W- -o-l-l-e-H\n"
          ]
        }
      ],
      "source": [
        "string = \"Hello World\"\n",
        "print ('-'.join(reversed(string)))"
      ]
    },
    {
      "cell_type": "code",
      "execution_count": null,
      "metadata": {
        "id": "vNAVdFnB82VG",
        "outputId": "47deb76f-3570-442b-def2-8b449d8c047e"
      },
      "outputs": [
        {
          "name": "stdout",
          "output_type": "stream",
          "text": [
            "d***l***r***o***W*** ***o***l***l***e***H\n"
          ]
        }
      ],
      "source": [
        "string = \"Hello World\"\n",
        "print ('***'.join(reversed(string)))"
      ]
    },
    {
      "cell_type": "code",
      "execution_count": null,
      "metadata": {
        "id": "1S9SpBLC82VG",
        "outputId": "d239fb5f-7c86-46e7-9370-a08d8d8721f6"
      },
      "outputs": [
        {
          "name": "stdout",
          "output_type": "stream",
          "text": [
            "Hello World\n"
          ]
        }
      ],
      "source": [
        "word = \"  Hello World\"\n",
        "print(word.strip(' '))"
      ]
    },
    {
      "cell_type": "code",
      "execution_count": null,
      "metadata": {
        "id": "alJt5cV982VH",
        "outputId": "797953bf-f7fa-406d-bd40-6bfe72416654"
      },
      "outputs": [
        {
          "name": "stdout",
          "output_type": "stream",
          "text": [
            "of all fruits banana is my favorite\n"
          ]
        }
      ],
      "source": [
        "txt = \"     banana     \"\n",
        "\n",
        "x = txt.strip()\n",
        "\n",
        "print(\"of all fruits\", x, \"is my favorite\") "
      ]
    },
    {
      "cell_type": "code",
      "execution_count": null,
      "metadata": {
        "id": "1L5KZ7iq82VH",
        "outputId": "d4d971ee-7dde-4fb8-a64c-8781ccfb376b"
      },
      "outputs": [
        {
          "name": "stdout",
          "output_type": "stream",
          "text": [
            "of all fruits banana      is my favorite\n"
          ]
        }
      ],
      "source": [
        "txt = \"     banana     \"\n",
        "\n",
        "x = txt.lstrip()\n",
        "\n",
        "print(\"of all fruits\", x, \"is my favorite\")"
      ]
    },
    {
      "cell_type": "code",
      "execution_count": null,
      "metadata": {
        "id": "VljxQc8282VH",
        "outputId": "105c4211-cdb8-4339-ee52-8bdf9810df2d"
      },
      "outputs": [
        {
          "name": "stdout",
          "output_type": "stream",
          "text": [
            "of all fruits      banana is my favorite\n"
          ]
        }
      ],
      "source": [
        "txt = \"     banana     \"\n",
        "\n",
        "x = txt.rstrip()\n",
        "\n",
        "print(\"of all fruits\", x, \"is my favorite\")"
      ]
    },
    {
      "cell_type": "code",
      "execution_count": null,
      "metadata": {
        "id": "KP63DXkQ82VH",
        "outputId": "0f492e12-cfa3-4700-9ec0-d8ebdc2faf72"
      },
      "outputs": [
        {
          "name": "stdout",
          "output_type": "stream",
          "text": [
            "banana\n"
          ]
        }
      ],
      "source": [
        "txt = \",,,,,rrttgg.....banana....rrr\"\n",
        "\n",
        "x = txt.strip(\",.grt\")\n",
        "\n",
        "print(x) "
      ]
    },
    {
      "cell_type": "code",
      "execution_count": null,
      "metadata": {
        "id": "-310V8oh82VH",
        "outputId": "9db76c1d-b4fa-49b0-c6cb-da2d3e17cd8e"
      },
      "outputs": [
        {
          "name": "stdout",
          "output_type": "stream",
          "text": [
            "banana....rrr\n"
          ]
        }
      ],
      "source": [
        "txt = \",,,,,rrttgg.....banana....rrr\"\n",
        "\n",
        "x = txt.lstrip(\",.grt\")\n",
        "\n",
        "print(x) "
      ]
    },
    {
      "cell_type": "code",
      "execution_count": null,
      "metadata": {
        "id": "bIzJfBlv82VI",
        "outputId": "1a9f2772-8739-4819-beb0-ce4c9a8fbc75"
      },
      "outputs": [
        {
          "name": "stdout",
          "output_type": "stream",
          "text": [
            ",,,,,rrttgg.....banana\n"
          ]
        }
      ],
      "source": [
        "txt = \",,,,,rrttgg.....banana....rrr\"\n",
        "\n",
        "x = txt.rstrip(\",.grt\")\n",
        "\n",
        "print(x) "
      ]
    },
    {
      "cell_type": "code",
      "execution_count": null,
      "metadata": {
        "id": "1iGk-Vfb82VI",
        "outputId": "e4b380c7-8502-48b3-e3e7-462e2e3dafc6"
      },
      "outputs": [
        {
          "name": "stdout",
          "output_type": "stream",
          "text": [
            "Python is awesome\n"
          ]
        }
      ],
      "source": [
        "x = \"Python is \"\n",
        "y = \"awesome\"\n",
        "z =  x + y\n",
        "print(z)"
      ]
    },
    {
      "cell_type": "code",
      "execution_count": null,
      "metadata": {
        "id": "7oIH9ZzY82VI",
        "outputId": "15d45856-a784-4133-c638-a65773cbcfed"
      },
      "outputs": [
        {
          "name": "stdout",
          "output_type": "stream",
          "text": [
            "Hello World\n"
          ]
        }
      ],
      "source": [
        "a = \"Hello\"\n",
        "b = \"World\"\n",
        "c = a + \" \" + b\n",
        "print(c)"
      ]
    },
    {
      "cell_type": "code",
      "execution_count": null,
      "metadata": {
        "id": "q_8Pf5fr82VJ",
        "outputId": "03133a0c-71ea-489b-a918-c6ef7f347c03"
      },
      "outputs": [
        {
          "name": "stdout",
          "output_type": "stream",
          "text": [
            "Hello     World\n"
          ]
        }
      ],
      "source": [
        "a = \"Hello\"\n",
        "b = \"World\"\n",
        "c = a + \"     \" + b\n",
        "print(c)"
      ]
    },
    {
      "cell_type": "code",
      "execution_count": null,
      "metadata": {
        "id": "SDydUz8X82VJ",
        "outputId": "fc36b88a-36df-4927-8966-f98739ad6908"
      },
      "outputs": [
        {
          "name": "stdout",
          "output_type": "stream",
          "text": [
            "15\n"
          ]
        }
      ],
      "source": [
        "x = 5\n",
        "y = 10\n",
        "print(x + y)"
      ]
    },
    {
      "cell_type": "code",
      "execution_count": null,
      "metadata": {
        "id": "X7s6e0Ea82VJ",
        "outputId": "f71afeb1-8e51-4607-c429-bc682d7b7112"
      },
      "outputs": [
        {
          "ename": "TypeError",
          "evalue": "can only concatenate str (not \"int\") to str",
          "output_type": "error",
          "traceback": [
            "\u001b[1;31m---------------------------------------------------------------------------\u001b[0m",
            "\u001b[1;31mTypeError\u001b[0m                                 Traceback (most recent call last)",
            "\u001b[1;32m<ipython-input-70-910fd4ef6902>\u001b[0m in \u001b[0;36m<module>\u001b[1;34m\u001b[0m\n\u001b[0;32m      1\u001b[0m \u001b[0mx\u001b[0m \u001b[1;33m=\u001b[0m \u001b[1;34m'5'\u001b[0m\u001b[1;33m\u001b[0m\u001b[1;33m\u001b[0m\u001b[0m\n\u001b[0;32m      2\u001b[0m \u001b[0my\u001b[0m \u001b[1;33m=\u001b[0m \u001b[1;36m10\u001b[0m\u001b[1;33m\u001b[0m\u001b[1;33m\u001b[0m\u001b[0m\n\u001b[1;32m----> 3\u001b[1;33m \u001b[0mprint\u001b[0m\u001b[1;33m(\u001b[0m\u001b[0mx\u001b[0m \u001b[1;33m+\u001b[0m \u001b[0my\u001b[0m\u001b[1;33m)\u001b[0m\u001b[1;33m\u001b[0m\u001b[1;33m\u001b[0m\u001b[0m\n\u001b[0m",
            "\u001b[1;31mTypeError\u001b[0m: can only concatenate str (not \"int\") to str"
          ]
        }
      ],
      "source": [
        "x = '5'\n",
        "y = 10\n",
        "print(x + y)"
      ]
    },
    {
      "cell_type": "code",
      "execution_count": null,
      "metadata": {
        "id": "kINmZ7_i82VK",
        "outputId": "0f642ece-7ddf-4d43-fcea-fcc29c0c159c"
      },
      "outputs": [
        {
          "name": "stdout",
          "output_type": "stream",
          "text": [
            "True\n",
            "False\n",
            "True\n",
            "True\n",
            "False\n",
            "False\n",
            "True\n",
            "True\n",
            "True\n"
          ]
        }
      ],
      "source": [
        "word = \"Hello1a2b3 World12@d\"\n",
        "word2= \"1a2b3c\"\n",
        "word3=\"123456\"\n",
        "word4=\"Sastra Iisc\"\n",
        "word5=\" \"\n",
        "\n",
        "print(word2.isalnum()) \n",
        "print(word.isalpha()) \n",
        "print(word3.isdigit()) \n",
        "print(word4.istitle()) \n",
        "print(word.isupper()) \n",
        "print(word.islower()) \n",
        "print(word5.isspace()) \n",
        "print(word.endswith('d')) \n",
        "print(word.startswith('H')) "
      ]
    },
    {
      "cell_type": "code",
      "execution_count": null,
      "metadata": {
        "id": "ya6n5NOo82VK",
        "outputId": "b74cf0dc-128e-4f66-b35e-6f11008d0c7c"
      },
      "outputs": [
        {
          "data": {
            "text/plain": [
              "['Python', 'C++', 'JavaScript']"
            ]
          },
          "execution_count": 95,
          "metadata": {},
          "output_type": "execute_result"
        }
      ],
      "source": [
        "['Python', 'C++', 'JavaScript']"
      ]
    },
    {
      "cell_type": "code",
      "execution_count": null,
      "metadata": {
        "id": "sAQj0PK582VK"
      },
      "outputs": [],
      "source": [
        "my_list = [1, 2, 3]"
      ]
    },
    {
      "cell_type": "code",
      "execution_count": null,
      "metadata": {
        "id": "U7pUMGrX82VK",
        "outputId": "b5b95b91-f16b-471a-877b-fd7fa751ca59"
      },
      "outputs": [
        {
          "data": {
            "text/plain": [
              "[1, 2, 3]"
            ]
          },
          "execution_count": 98,
          "metadata": {},
          "output_type": "execute_result"
        }
      ],
      "source": [
        "my_list"
      ]
    },
    {
      "cell_type": "code",
      "execution_count": null,
      "metadata": {
        "id": "Rm2DvOkt82VL"
      },
      "outputs": [],
      "source": [
        "\n",
        "my_list = []\n",
        "\n",
        "\n",
        "my_list = [1, \"Hello\", 3.4]"
      ]
    },
    {
      "cell_type": "code",
      "execution_count": null,
      "metadata": {
        "id": "GCCNr-Dd82VL",
        "outputId": "446d69ed-1b98-4cfd-afb0-121c1939f269"
      },
      "outputs": [
        {
          "data": {
            "text/plain": [
              "[1, 'Hello', 3.4]"
            ]
          },
          "execution_count": 100,
          "metadata": {},
          "output_type": "execute_result"
        }
      ],
      "source": [
        "my_list"
      ]
    },
    {
      "cell_type": "code",
      "execution_count": null,
      "metadata": {
        "id": "ILVOqNTj82VL"
      },
      "outputs": [],
      "source": [
        "my_list = [\"mouse\", [8, 4, 6], ['a']]"
      ]
    },
    {
      "cell_type": "code",
      "execution_count": null,
      "metadata": {
        "id": "Lq2VywK_82VL",
        "outputId": "bbe09b56-8bb6-4727-b36a-3f7483a16ec9"
      },
      "outputs": [
        {
          "data": {
            "text/plain": [
              "['mouse', [8, 4, 6], ['a']]"
            ]
          },
          "execution_count": 102,
          "metadata": {},
          "output_type": "execute_result"
        }
      ],
      "source": [
        "my_list"
      ]
    },
    {
      "cell_type": "code",
      "execution_count": null,
      "metadata": {
        "id": "NpAngMYt82VL",
        "outputId": "a6fa4730-50c8-4144-caab-eba1a9b3ef08"
      },
      "outputs": [
        {
          "name": "stdout",
          "output_type": "stream",
          "text": [
            "p\n",
            "o\n",
            "e\n",
            "a\n",
            "5\n",
            "e\n"
          ]
        }
      ],
      "source": [
        "my_list = ['p', 'r', 'o', 'b', 'e']\n",
        "\n",
        "\n",
        "print(my_list[0]) \n",
        "\n",
        "\n",
        "print(my_list[2]) \n",
        "\n",
        "\n",
        "print(my_list[4]) \n",
        "\n",
        "\n",
        "n_list = [\"Happy\", [2, 0, 1, 5]]\n",
        "\n",
        "\n",
        "print(n_list[0][1])\n",
        "\n",
        "print(n_list[1][3])\n",
        "\n",
        "\n",
        "print(my_list[4])"
      ]
    },
    {
      "cell_type": "code",
      "execution_count": null,
      "metadata": {
        "id": "WYfuQpZZ82VL",
        "outputId": "f1ad2d5b-0d82-4a7c-b557-d25821fbef42"
      },
      "outputs": [
        {
          "name": "stdout",
          "output_type": "stream",
          "text": [
            "e\n",
            "p\n"
          ]
        }
      ],
      "source": [
        "\n",
        "my_list = ['p','r','o','b','e']\n",
        "\n",
        "\n",
        "print(my_list[-1])\n",
        "\n",
        "\n",
        "print(my_list[-5])"
      ]
    },
    {
      "cell_type": "code",
      "execution_count": null,
      "metadata": {
        "id": "YQdVsisu82VM",
        "outputId": "7e9ecba6-c005-4eaa-f38b-6567173033d6"
      },
      "outputs": [
        {
          "name": "stdout",
          "output_type": "stream",
          "text": [
            "['o', 'g', 'r']\n",
            "['a', 'm', 'i', 'z']\n",
            "['p', 'r', 'o', 'g', 'r', 'a', 'm', 'i', 'z']\n"
          ]
        }
      ],
      "source": [
        "\n",
        "\n",
        "my_list = ['p','r','o','g','r','a','m','i','z']\n",
        "\n",
        "\n",
        "print(my_list[2:5])\n",
        "\n",
        "\n",
        "print(my_list[5:])\n",
        "\n",
        "\n",
        "print(my_list[:])"
      ]
    },
    {
      "cell_type": "code",
      "execution_count": null,
      "metadata": {
        "id": "Km1XLgf482VM",
        "outputId": "2a427e17-8f15-4601-ba8a-57c09de56cee"
      },
      "outputs": [
        {
          "name": "stdout",
          "output_type": "stream",
          "text": [
            "[1, 4, 6, 8]\n",
            "[1, 3, 5, 7]\n"
          ]
        }
      ],
      "source": [
        "\n",
        "odd = [2, 4, 6, 8]\n",
        "\n",
        "   \n",
        "odd[0] = 1            \n",
        "\n",
        "print(odd)\n",
        "\n",
        "\n",
        "odd[1:4] = [3, 5, 7]  \n",
        "\n",
        "print(odd)                   "
      ]
    },
    {
      "cell_type": "code",
      "execution_count": null,
      "metadata": {
        "id": "swjMCDed82VM",
        "outputId": "e04a4310-7755-480b-ba8b-c639e7a50522"
      },
      "outputs": [
        {
          "name": "stdout",
          "output_type": "stream",
          "text": [
            "[1, 3, 5, 7]\n",
            "[1, 3, 5, 7, 9, 11, 13]\n"
          ]
        }
      ],
      "source": [
        "\n",
        "odd = [1, 3, 5]\n",
        "\n",
        "odd.append(7)\n",
        "\n",
        "print(odd)\n",
        "\n",
        "odd.extend([9, 11, 13])\n",
        "\n",
        "print(odd)"
      ]
    },
    {
      "cell_type": "code",
      "execution_count": null,
      "metadata": {
        "id": "FQwJ1s1P82VM",
        "outputId": "cf39a33f-58b3-4032-86e2-11bd6ca50c0e"
      },
      "outputs": [
        {
          "name": "stdout",
          "output_type": "stream",
          "text": [
            "[1, 3, 5, 9, 7, 5]\n",
            "['re', 're', 're']\n"
          ]
        }
      ],
      "source": [
        "\n",
        "odd = [1, 3, 5]\n",
        "\n",
        "print(odd + [9, 7, 5])\n",
        "\n",
        "print([\"re\"] * 3)"
      ]
    },
    {
      "cell_type": "code",
      "execution_count": null,
      "metadata": {
        "id": "iIkbJQ7e82VM",
        "outputId": "4a956d18-10fc-4efb-f7fd-7096c4cbda0d"
      },
      "outputs": [
        {
          "name": "stdout",
          "output_type": "stream",
          "text": [
            "[1, 3, 9]\n",
            "[1, 3, 5, 7, 9]\n"
          ]
        }
      ],
      "source": [
        "\n",
        "odd = [1, 9]\n",
        "odd.insert(1,3)\n",
        "\n",
        "print(odd)\n",
        "\n",
        "odd[2:2] = [5, 7]\n",
        "\n",
        "print(odd)"
      ]
    },
    {
      "cell_type": "code",
      "execution_count": null,
      "metadata": {
        "id": "pc-Us0tg82VN",
        "outputId": "8bbc93cf-65ab-4d2d-ed58-683c354ca00f"
      },
      "outputs": [
        {
          "name": "stdout",
          "output_type": "stream",
          "text": [
            "['p', 'r', 'b', 'l', 'e', 'm']\n",
            "['p', 'm']\n"
          ]
        },
        {
          "ename": "NameError",
          "evalue": "name 'my_list' is not defined",
          "output_type": "error",
          "traceback": [
            "\u001b[1;31m---------------------------------------------------------------------------\u001b[0m",
            "\u001b[1;31mNameError\u001b[0m                                 Traceback (most recent call last)",
            "\u001b[1;32m<ipython-input-111-034dbd59c4a3>\u001b[0m in \u001b[0;36m<module>\u001b[1;34m\u001b[0m\n\u001b[0;32m     14\u001b[0m \u001b[1;32mdel\u001b[0m \u001b[0mmy_list\u001b[0m\u001b[1;33m\u001b[0m\u001b[1;33m\u001b[0m\u001b[0m\n\u001b[0;32m     15\u001b[0m \u001b[1;33m\u001b[0m\u001b[0m\n\u001b[1;32m---> 16\u001b[1;33m \u001b[0mprint\u001b[0m\u001b[1;33m(\u001b[0m\u001b[0mmy_list\u001b[0m\u001b[1;33m)\u001b[0m\u001b[1;33m\u001b[0m\u001b[1;33m\u001b[0m\u001b[0m\n\u001b[0m",
            "\u001b[1;31mNameError\u001b[0m: name 'my_list' is not defined"
          ]
        }
      ],
      "source": [
        "\n",
        "my_list = ['p', 'r', 'o', 'b', 'l', 'e', 'm']\n",
        "\n",
        "\n",
        "del my_list[2]\n",
        "\n",
        "print(my_list)\n",
        "\n",
        "\n",
        "del my_list[1:5]\n",
        "\n",
        "print(my_list)\n",
        "\n",
        "\n",
        "del my_list\n",
        "\n",
        "print(my_list)"
      ]
    },
    {
      "cell_type": "code",
      "execution_count": null,
      "metadata": {
        "id": "DWqXQ0WE82VN",
        "outputId": "861588ca-e3f6-4a87-8f9c-ae3770c12050"
      },
      "outputs": [
        {
          "name": "stdout",
          "output_type": "stream",
          "text": [
            "['r', 'o', 'b', 'l', 'e', 'm']\n",
            "o\n",
            "['r', 'b', 'l', 'e', 'm']\n",
            "m\n",
            "['r', 'b', 'l', 'e']\n",
            "[]\n"
          ]
        }
      ],
      "source": [
        "my_list = ['p','r','o','b','l','e','m']\n",
        "my_list.remove('p')\n",
        "\n",
        "\n",
        "print(my_list)\n",
        "\n",
        "\n",
        "print(my_list.pop(1))\n",
        "\n",
        "\n",
        "print(my_list)\n",
        "\n",
        "\n",
        "print(my_list.pop())\n",
        "\n",
        "\n",
        "print(my_list)\n",
        "\n",
        "my_list.clear()\n",
        "\n",
        "\n",
        "print(my_list)"
      ]
    },
    {
      "cell_type": "code",
      "execution_count": null,
      "metadata": {
        "id": "3YjAc23e82VN",
        "outputId": "237927a9-25b1-4247-f958-10b35c6a3c81"
      },
      "outputs": [
        {
          "name": "stdout",
          "output_type": "stream",
          "text": [
            "['p', 'r', 'b', 'l', 'e', 'm']\n"
          ]
        }
      ],
      "source": [
        "my_list = ['p','r','o','b','l','e','m']\n",
        "my_list[2:3] = []\n",
        "print(my_list)\n"
      ]
    },
    {
      "cell_type": "code",
      "execution_count": null,
      "metadata": {
        "id": "4B3EaK8-82VN",
        "outputId": "6cdfa7eb-d2f2-4bb1-c759-2ce2cc59d9db"
      },
      "outputs": [
        {
          "name": "stdout",
          "output_type": "stream",
          "text": [
            "[1, 2, 4, 8, 16, 32, 64, 128, 256, 512]\n"
          ]
        }
      ],
      "source": [
        "pow2 = [2 ** x for x in range(10)]\n",
        "print(pow2)\n",
        "\n"
      ]
    },
    {
      "cell_type": "code",
      "execution_count": null,
      "metadata": {
        "id": "2zCJ_leo82VO"
      },
      "outputs": [],
      "source": [
        "pow2 = []\n",
        "for x in range(10):\n",
        "    pow2.append(2 ** x)"
      ]
    },
    {
      "cell_type": "code",
      "execution_count": null,
      "metadata": {
        "id": "2A_6yS1D82VO",
        "outputId": "d68a6712-d18a-4b74-b600-bf440ea95799"
      },
      "outputs": [
        {
          "data": {
            "text/plain": [
              "[1, 2, 4, 8, 16, 32, 64, 128, 256, 512]"
            ]
          },
          "execution_count": 116,
          "metadata": {},
          "output_type": "execute_result"
        }
      ],
      "source": [
        "pow2"
      ]
    },
    {
      "cell_type": "code",
      "execution_count": null,
      "metadata": {
        "id": "eC4EO7ww82VO",
        "outputId": "f3ed1ef3-0e10-4b2e-e917-8000f4c0431d"
      },
      "outputs": [
        {
          "name": "stdout",
          "output_type": "stream",
          "text": [
            "True\n",
            "False\n",
            "True\n"
          ]
        }
      ],
      "source": [
        "my_list = ['p', 'r', 'o', 'b', 'l', 'e', 'm']\n",
        "\n",
        "\n",
        "print('p' in my_list)\n",
        "\n",
        "\n",
        "print('a' in my_list)\n",
        "\n",
        "\n",
        "print('c' not in my_list)"
      ]
    },
    {
      "cell_type": "code",
      "execution_count": null,
      "metadata": {
        "id": "0XjwT9Di82VO",
        "outputId": "2d841111-473c-477b-d06b-4285a06a73e6"
      },
      "outputs": [
        {
          "name": "stdout",
          "output_type": "stream",
          "text": [
            "I like apple\n",
            "I like banana\n",
            "I like mango\n"
          ]
        }
      ],
      "source": [
        "for fruit in ['apple','banana','mango']:\n",
        "    print(\"I like\",fruit)"
      ]
    },
    {
      "cell_type": "code",
      "execution_count": null,
      "metadata": {
        "id": "W79XLBjG82VP",
        "outputId": "ef4bd96b-ced5-44cb-afbf-2f65beedf83e"
      },
      "outputs": [
        {
          "name": "stdout",
          "output_type": "stream",
          "text": [
            "[1, 2, 4, 8, 16, 32, 64, 128, 256, 512]\n",
            "[2, 4, 8, 16, 32, 64, 128, 256, 512]\n"
          ]
        }
      ],
      "source": [
        "pow2 = [2 ** x for x in range(10)]\n",
        "print(pow2)\n",
        "even=[]\n",
        "for i in pow2:\n",
        "    if i%2==0:\n",
        "        even.append(i)\n",
        "        \n",
        "print(even)\n",
        "        "
      ]
    },
    {
      "cell_type": "code",
      "execution_count": null,
      "metadata": {
        "id": "8I54SM4682VP"
      },
      "outputs": [],
      "source": [
        ""
      ]
    }
  ],
  "metadata": {
    "kernelspec": {
      "display_name": "Python 3",
      "language": "python",
      "name": "python3"
    },
    "language_info": {
      "codemirror_mode": {
        "name": "ipython",
        "version": 3
      },
      "file_extension": ".py",
      "mimetype": "text/x-python",
      "name": "python",
      "nbconvert_exporter": "python",
      "pygments_lexer": "ipython3",
      "version": "3.8.5"
    },
    "colab": {
      "name": "Practical 21-03-2020.ipynb",
      "provenance": [],
      "include_colab_link": true
    }
  },
  "nbformat": 4,
  "nbformat_minor": 0
}